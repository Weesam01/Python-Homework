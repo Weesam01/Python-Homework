{
 "cells": [
  {
   "cell_type": "code",
   "execution_count": 34,
   "id": "a8c4ef0a-7e1c-4362-a32d-c32f5e9ae60b",
   "metadata": {
    "tags": []
   },
   "outputs": [],
   "source": [
    "from pathlib import Path "
   ]
  },
  {
   "cell_type": "code",
   "execution_count": 35,
   "id": "6bf1f851-0587-476a-97d1-65859da9e8f2",
   "metadata": {
    "tags": []
   },
   "outputs": [],
   "source": [
    "#specifying filepath\n",
    "filepath = Path(r\"C:\\Users\\Weesam\\Documents\\School\\UOFT Work\\Module 2\\Instructions\\PyBank\\Resources\\budget_data.csv\")"
   ]
  },
  {
   "cell_type": "code",
   "execution_count": 53,
   "id": "57381ca0-98a2-45df-9a70-ec3d356b74a1",
   "metadata": {
    "tags": []
   },
   "outputs": [
    {
     "name": "stdout",
     "output_type": "stream",
     "text": [
      "Date,Profit/Losses\n",
      "10-Jan,867884\n",
      "10-Feb,984655\n",
      "10-Mar,322013\n",
      "10-Apr,-69417\n",
      "10-May,310503\n",
      "10-Jun,522857\n",
      "10-Jul,1033096\n",
      "10-Aug,604885\n",
      "10-Sep,-216386\n",
      "10-Oct,477532\n",
      "10-Nov,893810\n",
      "10-Dec,-80353\n",
      "11-Jan,779806\n",
      "11-Feb,-335203\n",
      "11-Mar,697845\n",
      "11-Apr,793163\n",
      "11-May,485070\n",
      "11-Jun,584122\n",
      "11-Jul,62729\n",
      "11-Aug,668179\n",
      "11-Sep,899906\n",
      "11-Oct,834719\n",
      "11-Nov,132003\n",
      "11-Dec,309978\n",
      "12-Jan,-755566\n",
      "12-Feb,1170593\n",
      "12-Mar,252788\n",
      "12-Apr,1151518\n",
      "12-May,817256\n",
      "12-Jun,570757\n",
      "12-Jul,506702\n",
      "12-Aug,-1022534\n",
      "12-Sep,475062\n",
      "12-Oct,779976\n",
      "12-Nov,144175\n",
      "12-Dec,542494\n",
      "13-Jan,359333\n",
      "13-Feb,321469\n",
      "13-Mar,67780\n",
      "13-Apr,471435\n",
      "13-May,565603\n",
      "13-Jun,872480\n",
      "13-Jul,789480\n",
      "13-Aug,999942\n",
      "13-Sep,-1196225\n",
      "13-Oct,268997\n",
      "13-Nov,-687986\n",
      "13-Dec,1150461\n",
      "14-Jan,682458\n",
      "14-Feb,617856\n",
      "14-Mar,824098\n",
      "14-Apr,581943\n",
      "14-May,132864\n",
      "14-Jun,448062\n",
      "14-Jul,689161\n",
      "14-Aug,800701\n",
      "14-Sep,1166643\n",
      "14-Oct,947333\n",
      "14-Nov,578668\n",
      "14-Dec,988505\n",
      "15-Jan,1139715\n",
      "15-Feb,1029471\n",
      "15-Mar,687533\n",
      "15-Apr,-524626\n",
      "15-May,158620\n",
      "15-Jun,87795\n",
      "15-Jul,423389\n",
      "15-Aug,840723\n",
      "15-Sep,568529\n",
      "15-Oct,332067\n",
      "15-Nov,989499\n",
      "15-Dec,778237\n",
      "16-Jan,650000\n",
      "16-Feb,-1100387\n",
      "16-Mar,-174946\n",
      "16-Apr,757143\n",
      "16-May,445709\n",
      "16-Jun,712961\n",
      "16-Jul,-1163797\n",
      "16-Aug,569899\n",
      "16-Sep,768450\n",
      "16-Oct,102685\n",
      "16-Nov,795914\n",
      "16-Dec,60988\n",
      "17-Jan,138230\n",
      "17-Feb,671099\n",
      "\n"
     ]
    }
   ],
   "source": [
    "# opens the content as file\n",
    "with open(filepath, 'r') as file:\n",
    "    # reads the content\n",
    "    csv_content = file.read()\n",
    "    # prints the content\n",
    "    print(csv_content) "
   ]
  },
  {
   "cell_type": "code",
   "execution_count": 47,
   "id": "877d654d-d8bb-4533-a228-d8080fac171f",
   "metadata": {
    "tags": []
   },
   "outputs": [
    {
     "name": "stdout",
     "output_type": "stream",
     "text": [
      "Total number of months: 87\n"
     ]
    }
   ],
   "source": [
    "## Total number of Months in Data Set\n",
    "\n",
    "# import data set\n",
    "import csv \n",
    "\n",
    "#initialize month variable\n",
    "total_months = 0\n",
    "\n",
    "#read data set \n",
    "with open(filepath, 'r') as file:\n",
    "    csv_reader = csv.reader(file)\n",
    "    \n",
    "    \n",
    "    for row in csv_reader: #Loop intializer\n",
    "        total_months += 1 #total months is equal to 0,+1 to continously add each row\n",
    "        \n",
    "      # Print Total number of Months   \n",
    "    print(f\"Total number of months: {total_months}\")"
   ]
  },
  {
   "cell_type": "code",
   "execution_count": 58,
   "id": "577b54f6-0438-4468-8acf-8547f049e230",
   "metadata": {
    "tags": []
   },
   "outputs": [
    {
     "name": "stdout",
     "output_type": "stream",
     "text": [
      "Net Total of Profit/Losses $38382578\n"
     ]
    }
   ],
   "source": [
    "## Net total amount of Profit/Losses over the entire period.\n",
    "\n",
    "#import data set \n",
    "import csv\n",
    "\n",
    "#initialize variables\n",
    "net_total=0\n",
    "row_count=0\n",
    "\n",
    "#read data set \n",
    "with open (filepath,'r') as file:\n",
    "    csv_reader = csv.reader(file)\n",
    "\n",
    "    #Skips the first row\n",
    "    next(csv_reader) \n",
    "    \n",
    "    # Create a for loop to calculate P/L in the period\n",
    "    for row in csv_reader: # loop initializer\n",
    "        profit_loss= int(row[1]) # read everything in row 1 as integer\n",
    "        net_total+= profit_loss # net_total is equal to profit_loss\n",
    "        row_count+= 1 #row count is equal to 0,+1 to continously add each row\n",
    "    print(f\"Net Total of Profit/Losses ${net_total}\") # Prints Total P/L\n",
    "     \n",
    "  "
   ]
  },
  {
   "cell_type": "code",
   "execution_count": 71,
   "id": "504f7844-3a7e-4ce8-a503-d88a3dd7884b",
   "metadata": {},
   "outputs": [
    {
     "name": "stdout",
     "output_type": "stream",
     "text": [
      "Average Change in Profit/Losses: $-2315.12\n"
     ]
    }
   ],
   "source": [
    "## Average of the changes in Profit/Losses over the entire period\n",
    "\n",
    "#read data set\n",
    "with open(filepath, 'r') as file:\n",
    "    csv_reader = csv.reader(file)\n",
    "    \n",
    "    # Skip the first row \n",
    "    next(csv_reader)\n",
    "    \n",
    "   \n",
    "    differences = [] # Empty list to store the diffrences\n",
    "    sum_of_differences = 0 # Accumulate the sum of the diffrences\n",
    "    count = 0 # Keep track of the number of values\n",
    "    \n",
    "   \n",
    "    for row in csv_reader: #loop initilizer\n",
    "        profit_loss = int(row[1]) # read everything in row 1 as integer\n",
    "        \n",
    "        if count > 0:\n",
    "            difference = profit_loss - last_profit_loss # calculate the diffrence between profit loss and and previous profit loss\n",
    "            differences.append(difference) # append diffrence to diffrences\n",
    "            sum_of_differences += difference # add diffrence to sum of diffrences\n",
    "        \n",
    "        last_profit_loss = profit_loss # Update Previous P/L to P/L\n",
    "        count += 1 #add +1 to each itteration of the loop  \n",
    "    \n",
    "   \n",
    "    average_change = sum_of_differences / len(differences) # Calculate the average change\n",
    "    \n",
    "   \n",
    "    print(f\"Average Change in Profit/Losses: ${average_change:.2f}\")  # Print the average change with 2 decimals points"
   ]
  },
  {
   "cell_type": "code",
   "execution_count": 73,
   "id": "b0714505-71d9-4e88-bf5c-948ef52fc38e",
   "metadata": {
    "tags": []
   },
   "outputs": [
    {
     "name": "stdout",
     "output_type": "stream",
     "text": [
      "Greatest Increase in Profits: Date 12-Feb, Amount $1926159\n"
     ]
    }
   ],
   "source": [
    "\n",
    "max_increase_amount = 0 # variable for greatest increase in profit\n",
    "max_increase_date = \"\" # variable for greatest increase date\n",
    "\n",
    "# Read data set\n",
    "with open(filepath, 'r') as file:\n",
    "    csv_reader = csv.reader(file)\n",
    "    \n",
    "    # Skip the first row\n",
    "    next(csv_reader)\n",
    "    \n",
    "    \n",
    "    last_profit_loss = 0 # track last P/L in the rows\n",
    "    row_count = 0 # track current row number\n",
    "    \n",
    "    for row in csv_reader: # Loop initilizer\n",
    "        date = row[0]  # Date is in the first column\n",
    "        profit_loss = int(row[1])  # Profit/loss value is in the second column\n",
    "        \n",
    "        \n",
    "        if row_count > 0:\n",
    "            increase = profit_loss - last_profit_loss # calculate increase in profits by differencing P/l from L_P/L\n",
    "            \n",
    "           \n",
    "            if increase > max_increase_amount: # if increase is greater than zero \n",
    "                max_increase_amount = increase # max amount equals increase\n",
    "                max_increase_date = date # max increase date is logged\n",
    "        \n",
    "        last_profit_loss = profit_loss #  Update Last P/L to P/L\n",
    "        row_count += 1 # add +1 to each itteration of the loop  \n",
    "\n",
    "\n",
    "print(f\"Greatest Increase in Profits: Date {max_increase_date}, Amount ${max_increase_amount}\") # Print greatest increase with date and amount"
   ]
  },
  {
   "cell_type": "code",
   "execution_count": 75,
   "id": "47c3e0d2-d26a-4eca-b0bd-4e1e6b668957",
   "metadata": {
    "tags": []
   },
   "outputs": [
    {
     "name": "stdout",
     "output_type": "stream",
     "text": [
      "Greatest Decrease in Profits: Date 13-Sep, Amount $2196167\n"
     ]
    }
   ],
   "source": [
    "max_decrease_amount = 0 # variable for greatest decrease in profit\n",
    "max_decrease_date = \"\" # variable for greatest decrease date\n",
    "\n",
    "# Read data set\n",
    "with open(filepath, 'r') as file:\n",
    "    csv_reader = csv.reader(file)\n",
    "    \n",
    "    # Skip the first row\n",
    "    next(csv_reader)\n",
    "    \n",
    "    \n",
    "    last_profit_loss = 0 # track last P/L in the rows\n",
    "    row_count = 0 # track current row number\n",
    "    \n",
    "    for row in csv_reader: # Loop initilizer\n",
    "        date = row[0]  # Date is in the first column\n",
    "        profit_loss = int(row[1])  # Profit/loss value is in the second column\n",
    "        \n",
    "        \n",
    "        if row_count > 0:\n",
    "            decrease = last_profit_loss - profit_loss # calculate decrease in profits by differencing L_P/L from P/L\n",
    "            \n",
    "           \n",
    "            if decrease > max_decrease_amount: # if decrease is greater than zero \n",
    "                max_decrease_amount = decrease # max amount equals decrease\n",
    "                max_decrease_date = date # max decrease date is logged\n",
    "        \n",
    "        last_profit_loss = profit_loss #  Update Last P/L to P/L\n",
    "        row_count += 1 # add +1 to each itteration of the loop  \n",
    "\n",
    "\n",
    "print(f\"Greatest Decrease in Profits: Date {max_decrease_date}, Amount ${max_decrease_amount}\") # Print greatest decrease with date and amount"
   ]
  },
  {
   "cell_type": "code",
   "execution_count": 83,
   "id": "25221305-b016-4f36-a1e6-9ba652959782",
   "metadata": {
    "tags": []
   },
   "outputs": [
    {
     "name": "stdout",
     "output_type": "stream",
     "text": [
      " Financial Analysis\n",
      " ----------------------------\n",
      " Total Months: 87\n",
      " Net Total of Profit/Loses : 38382578\n",
      " Average change of Profit/Loses : -2315.12\n",
      " Greatest Increase in Profits:Date 12-Feb, Amount $1926159\n",
      " Greatest Decrease in Profits:Date 13-Sep, Amount $2196167\n"
     ]
    }
   ],
   "source": [
    "print(\" Financial Analysis\")\n",
    "print(\" ----------------------------\")\n",
    "print(f\" Total Months: {total_months}\")\n",
    "print(f\" Net Total of Profit/Loses : {net_total}\")\n",
    "print(f\" Average change of Profit/Loses : {average_change:.2f}\")\n",
    "print(f\" Greatest Increase in Profits:Date {max_increase_date}, Amount ${max_increase_amount}\")\n",
    "print(f\" Greatest Decrease in Profits:Date {max_decrease_date}, Amount ${max_decrease_amount}\")"
   ]
  },
  {
   "cell_type": "code",
   "execution_count": null,
   "id": "8978504c-286c-4c59-b3f7-7116551662f8",
   "metadata": {},
   "outputs": [],
   "source": []
  }
 ],
 "metadata": {
  "kernelspec": {
   "display_name": "Python 3 (ipykernel)",
   "language": "python",
   "name": "python3"
  },
  "language_info": {
   "codemirror_mode": {
    "name": "ipython",
    "version": 3
   },
   "file_extension": ".py",
   "mimetype": "text/x-python",
   "name": "python",
   "nbconvert_exporter": "python",
   "pygments_lexer": "ipython3",
   "version": "3.10.12"
  }
 },
 "nbformat": 4,
 "nbformat_minor": 5
}
